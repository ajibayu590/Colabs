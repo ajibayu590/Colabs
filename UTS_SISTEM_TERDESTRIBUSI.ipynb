{
  "nbformat": 4,
  "nbformat_minor": 0,
  "metadata": {
    "colab": {
      "provenance": [],
      "authorship_tag": "ABX9TyNWNy4MXkIhUkLDQM6HsmVT",
      "include_colab_link": true
    },
    "kernelspec": {
      "name": "python3",
      "display_name": "Python 3"
    },
    "language_info": {
      "name": "python"
    }
  },
  "cells": [
    {
      "cell_type": "markdown",
      "metadata": {
        "id": "view-in-github",
        "colab_type": "text"
      },
      "source": [
        "<a href=\"https://colab.research.google.com/github/ajibayu590/Colabs/blob/uts/UTS_SISTEM_TERDESTRIBUSI.ipynb\" target=\"_parent\"><img src=\"https://colab.research.google.com/assets/colab-badge.svg\" alt=\"Open In Colab\"/></a>"
      ]
    },
    {
      "cell_type": "markdown",
      "source": [
        "**Soal Nomer 1**"
      ],
      "metadata": {
        "id": "4q1M6owGhit1"
      }
    },
    {
      "cell_type": "code",
      "execution_count": 1,
      "metadata": {
        "id": "kjlOb-dChesS"
      },
      "outputs": [],
      "source": [
        "\n",
        "import math\n",
        "import os\n",
        "import random\n",
        "import re\n",
        "import sys"
      ]
    },
    {
      "cell_type": "markdown",
      "source": [
        "Weird"
      ],
      "metadata": {
        "id": "0qfXEuZ3hzyY"
      }
    },
    {
      "cell_type": "code",
      "source": [
        "if __name__ == '__main__':\n",
        "    n = int(input().strip())\n",
        "\n",
        "    if n%2 != 0:\n",
        "        print(\"Weird\")\n",
        "    elif n%2 == 0 and n>2 and n<=5:\n",
        "        print(\"Not Weird\")\n",
        "    elif n%2 ==0 and n > 6 and n <=20:\n",
        "        print(\"Weird\")\n",
        "    else:\n",
        "        print(\"Not Weird\")"
      ],
      "metadata": {
        "colab": {
          "base_uri": "https://localhost:8080/"
        },
        "id": "TrU_MiAIhl6T",
        "outputId": "191b8c89-1ec4-4b2d-b536-9fa9b6ae0939"
      },
      "execution_count": 2,
      "outputs": [
        {
          "output_type": "stream",
          "name": "stdout",
          "text": [
            "3\n",
            "Weird\n"
          ]
        }
      ]
    },
    {
      "cell_type": "markdown",
      "source": [
        "Not Weird"
      ],
      "metadata": {
        "id": "NZefsZU3hzTk"
      }
    },
    {
      "cell_type": "code",
      "source": [
        "if __name__ == '__main__':\n",
        "    n = int(input().strip())\n",
        "\n",
        "    if n%2 != 0:\n",
        "        print(\"Weird\")\n",
        "    elif n%2 == 0 and n>2 and n<=5:\n",
        "        print(\"Not Weird\")\n",
        "    elif n%2 ==0 and n > 6 and n <=20:\n",
        "        print(\"Weird\")\n",
        "    else:\n",
        "        print(\"Not Weird\")"
      ],
      "metadata": {
        "colab": {
          "base_uri": "https://localhost:8080/"
        },
        "id": "Eir0ln4ahy1T",
        "outputId": "4c4eb509-7fa9-456f-db65-85122d05cdef"
      },
      "execution_count": 3,
      "outputs": [
        {
          "output_type": "stream",
          "name": "stdout",
          "text": [
            "24\n",
            "Not Weird\n"
          ]
        }
      ]
    },
    {
      "cell_type": "markdown",
      "source": [
        "**Soal 2**"
      ],
      "metadata": {
        "id": "HhEZIBchh6F4"
      }
    },
    {
      "cell_type": "code",
      "source": [
        "\n",
        "if __name__ == '__main__':\n",
        "    n = int(input())\n",
        "    for i in range (1, n+1):\n",
        "        print(i,end='')\n",
        ""
      ],
      "metadata": {
        "colab": {
          "base_uri": "https://localhost:8080/"
        },
        "id": "ZS_XeOkviBF9",
        "outputId": "59c4ae4f-dcb5-46a5-d611-1ef5997bbf54"
      },
      "execution_count": 4,
      "outputs": [
        {
          "output_type": "stream",
          "name": "stdout",
          "text": [
            "10\n",
            "12345678910"
          ]
        }
      ]
    }
  ]
}